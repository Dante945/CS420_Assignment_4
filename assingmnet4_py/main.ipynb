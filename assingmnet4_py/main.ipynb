{
 "cells": [
  {
   "cell_type": "markdown",
   "id": "b9b5f110-0a65-403a-8086-6a674b395ac7",
   "metadata": {},
   "source": [
    "# CS-420 Assignment 4"
   ]
  },
  {
   "cell_type": "markdown",
   "id": "44e4d373-6639-4951-9785-fbb95238c5e1",
   "metadata": {},
   "source": [
    "## Part 4"
   ]
  },
  {
   "cell_type": "code",
   "execution_count": 2,
   "id": "367821a0-0a88-4208-bf9e-1d8fb6d94425",
   "metadata": {
    "tags": []
   },
   "outputs": [],
   "source": [
    "def merge(left, right):\n",
    "    merged = left + right\n",
    "    left.append(float('inf'))\n",
    "    right.append(float('inf'))\n",
    "\n",
    "    i, j = 0, 0 \n",
    "    for k in range(len(merged)):\n",
    "        if left[i] <= right[j]: \n",
    "            merged[k] = left[i]\n",
    "            i += 1\n",
    "        else:\n",
    "            merged[k] = right[j]\n",
    "            j += 1\n",
    "    return merged"
   ]
  },
  {
   "cell_type": "code",
   "execution_count": 19,
   "id": "1f1fa8f6-7bfb-47f8-aafa-34ad5ee080f1",
   "metadata": {},
   "outputs": [],
   "source": [
    "def mergesort(arr):\n",
    "    if len(arr) > 1:\n",
    "        mid = int(len(arr) // 1) // 2\n",
    "        left = mergesort(arr[:mid]) \n",
    "        right = mergesort(arr[mid:]) \n",
    "        return merge(left,right) \n",
    "    else:\n",
    "        return arr"
   ]
  },
  {
   "cell_type": "code",
   "execution_count": 21,
   "id": "4491df41-cbc7-437a-b9f9-8f226e67310e",
   "metadata": {},
   "outputs": [],
   "source": [
    "def partition(arr, p, r):\n",
    "    pivot = arr[r]\n",
    "    i = p - 1\n",
    "\n",
    "    for j in range(p, r):\n",
    "        if arr[j] <= pivot:\n",
    "            i += 1\n",
    "            arr[i], arr[j] = arr[j], arr[i]\n",
    "    arr[i + 1], arr[r] = arr[r], arr[i + 1]\n",
    "    return i+1"
   ]
  },
  {
   "cell_type": "code",
   "execution_count": 22,
   "id": "74cda282",
   "metadata": {},
   "outputs": [],
   "source": [
    "import random\n",
    "def randomized_partition(arr, p, r, seed=0):\n",
    "    random.seed(seed)\n",
    "    i = random.randint(p,r)\n",
    "    arr[r], arr[i] = arr[i], arr[r]\n",
    "    return partition(arr, p, r)"
   ]
  },
  {
   "cell_type": "code",
   "execution_count": 23,
   "id": "bbd7c0bf-e330-4333-8885-93eefb22f327",
   "metadata": {},
   "outputs": [],
   "source": [
    "def quicksort(A, p, r):\n",
    "    if p < r:\n",
    "        q = randomized_partition(A, p, r)\n",
    "        quicksort(A, p, q-1)\n",
    "        quicksort(A, q+1, r)"
   ]
  },
  {
   "cell_type": "code",
   "execution_count": 24,
   "id": "1e0346e7-17ba-44e9-b4a9-f1884ad866ff",
   "metadata": {},
   "outputs": [],
   "source": [
    "test_arr = [2,6,1,9,1]"
   ]
  },
  {
   "cell_type": "code",
   "execution_count": 30,
   "id": "396f128a-5bcf-4fb0-8477-29529b3f52d0",
   "metadata": {},
   "outputs": [],
   "source": [
    "def test_mergesort(arr):\n",
    "    mergesort_arr = mergesort(arr)\n",
    "    arr.sort()\n",
    "    return mergesort_arr == arr"
   ]
  },
  {
   "cell_type": "code",
   "execution_count": 31,
   "id": "b2567c4a-d0b5-4ee0-8f64-380f66efce39",
   "metadata": {},
   "outputs": [
    {
     "data": {
      "text/plain": [
       "True"
      ]
     },
     "execution_count": 31,
     "metadata": {},
     "output_type": "execute_result"
    }
   ],
   "source": [
    "test_mergesort(test_arr)"
   ]
  },
  {
   "cell_type": "code",
   "execution_count": 32,
   "id": "1cfeb47b-52a7-4074-a248-322ab7758b2b",
   "metadata": {},
   "outputs": [],
   "source": [
    "def test_quicksort(arr):\n",
    "    # Quick sort sorts in place\n",
    "    quicksort_arr = arr[:]\n",
    "    quicksort(quicksort_arr, 0, len(arr) - 1)\n",
    "    arr.sort()\n",
    "    return quicksort_arr == arr"
   ]
  },
  {
   "cell_type": "code",
   "execution_count": 33,
   "id": "16fd5d4b-fd01-4726-b923-66609d37b217",
   "metadata": {},
   "outputs": [
    {
     "data": {
      "text/plain": [
       "True"
      ]
     },
     "execution_count": 33,
     "metadata": {},
     "output_type": "execute_result"
    }
   ],
   "source": [
    "test_quicksort(test_arr)"
   ]
  },
  {
   "cell_type": "markdown",
   "id": "271a5bd8-5ba3-4161-8578-b243ff828c2e",
   "metadata": {},
   "source": [
    "## Part 5"
   ]
  },
  {
   "cell_type": "code",
   "execution_count": 34,
   "id": "b4947bb9-5ea0-46de-9ff4-78e3135493b2",
   "metadata": {},
   "outputs": [],
   "source": [
    "from timeit import default_timer as timer\n",
    "arr = list(range(1000000))\n",
    "reverse = list(range(1000000, 0, -1))"
   ]
  },
  {
   "cell_type": "code",
   "execution_count": 35,
   "id": "e51e5bdb-1e2d-4c5c-8a8d-9a51a1632553",
   "metadata": {},
   "outputs": [
    {
     "name": "stdout",
     "output_type": "stream",
     "text": [
      "Quick-Sort in-order: 5548.271583000002 msecs\n"
     ]
    }
   ],
   "source": [
    "start = timer()\n",
    "quicksort(arr, 0, len(arr) - 1)\n",
    "end = timer()\n",
    "print(f\"Quick-Sort in-order: {(end - start) * 1000} msecs\")"
   ]
  },
  {
   "cell_type": "code",
   "execution_count": 36,
   "id": "e16a1138-4407-4835-a6a5-95349513028c",
   "metadata": {},
   "outputs": [
    {
     "name": "stdout",
     "output_type": "stream",
     "text": [
      "Quick-Sort reversed: 6754.953625000013 msecs\n"
     ]
    }
   ],
   "source": [
    "start = timer()\n",
    "quicksort(reverse, 0, len(reverse) - 1)\n",
    "end = timer()\n",
    "print(f\"Quick-Sort reversed: {(end - start) * 1000} msecs\")"
   ]
  },
  {
   "cell_type": "code",
   "execution_count": 37,
   "id": "21b0adbb-eea5-4702-bfba-670896defa83",
   "metadata": {},
   "outputs": [
    {
     "name": "stdout",
     "output_type": "stream",
     "text": [
      "Merge-Sort in-order: 2121.0601250000136 msecs\n"
     ]
    }
   ],
   "source": [
    "start = timer()\n",
    "mergesort(arr)\n",
    "end = timer()\n",
    "print(f\"Merge-Sort in-order: {(end - start) * 1000} msecs\")"
   ]
  },
  {
   "cell_type": "code",
   "execution_count": 38,
   "id": "fb5eb085-55e9-4357-8fdc-1d41f97f4774",
   "metadata": {},
   "outputs": [
    {
     "name": "stdout",
     "output_type": "stream",
     "text": [
      "Merge-Sort reversed: 2125.8975419999897 msecs\n"
     ]
    }
   ],
   "source": [
    "start = timer()\n",
    "mergesort(reverse)\n",
    "end = timer()\n",
    "print(f\"Merge-Sort reversed: {(end - start) * 1000} msecs\")"
   ]
  },
  {
   "cell_type": "markdown",
   "id": "2725e7eb-ce7a-4239-8da2-f637cf47dda2",
   "metadata": {},
   "source": [
    "## Part 7"
   ]
  },
  {
   "cell_type": "code",
   "execution_count": 39,
   "id": "69e05ad4-d6a7-4ea1-a354-3bdfa177b6da",
   "metadata": {},
   "outputs": [
    {
     "name": "stdout",
     "output_type": "stream",
     "text": [
      "Built-In-Sort in-order: 3.050292000011723 msecs\n"
     ]
    }
   ],
   "source": [
    "start = timer()\n",
    "arr.sort()\n",
    "end = timer()\n",
    "print(f\"Built-In-Sort in-order: {(end - start) * 1000} msecs\")"
   ]
  },
  {
   "cell_type": "code",
   "execution_count": 40,
   "id": "0dee7501-cde7-4a29-b896-8826a248f5cd",
   "metadata": {},
   "outputs": [
    {
     "name": "stdout",
     "output_type": "stream",
     "text": [
      "Built-In-Sort reversed: 2.7782079999951748 msecs\n"
     ]
    }
   ],
   "source": [
    "start = timer()\n",
    "reverse.sort()\n",
    "end = timer()\n",
    "print(f\"Built-In-Sort reversed: {(end - start) * 1000} msecs\")"
   ]
  }
 ],
 "metadata": {
  "kernelspec": {
   "display_name": "Python 3.9.6 64-bit",
   "language": "python",
   "name": "python3"
  },
  "language_info": {
   "codemirror_mode": {
    "name": "ipython",
    "version": 3
   },
   "file_extension": ".py",
   "mimetype": "text/x-python",
   "name": "python",
   "nbconvert_exporter": "python",
   "pygments_lexer": "ipython3",
   "version": "3.9.6"
  },
  "vscode": {
   "interpreter": {
    "hash": "31f2aee4e71d21fbe5cf8b01ff0e069b9275f58929596ceb00d14d90e3e16cd6"
   }
  }
 },
 "nbformat": 4,
 "nbformat_minor": 5
}
