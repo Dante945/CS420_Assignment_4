{
 "cells": [
  {
   "cell_type": "markdown",
   "id": "b9b5f110-0a65-403a-8086-6a674b395ac7",
   "metadata": {},
   "source": [
    "# CS-420 Assignment 4"
   ]
  },
  {
   "cell_type": "markdown",
   "id": "44e4d373-6639-4951-9785-fbb95238c5e1",
   "metadata": {},
   "source": [
    "## Part 4"
   ]
  },
  {
   "cell_type": "markdown",
   "id": "32e08740-d6b9-4274-9b18-c5a7536f692e",
   "metadata": {},
   "source": [
    "### Merge Sort"
   ]
  },
  {
   "cell_type": "code",
   "execution_count": 1,
   "id": "367821a0-0a88-4208-bf9e-1d8fb6d94425",
   "metadata": {
    "tags": []
   },
   "outputs": [],
   "source": [
    "def merge(left, right):\n",
    "    merged = left + right\n",
    "    left.append(float('inf'))\n",
    "    right.append(float('inf'))\n",
    "\n",
    "    i, j = 0, 0 \n",
    "    for k in range(len(merged)):\n",
    "        if left[i] <= right[j]: \n",
    "            merged[k] = left[i]\n",
    "            i += 1\n",
    "        else:\n",
    "            merged[k] = right[j]\n",
    "            j += 1\n",
    "    return merged\n",
    "\n",
    "def mergesort(arr):\n",
    "    if len(arr) > 1:\n",
    "        mid = int(len(arr) // 1) // 2\n",
    "        left = mergesort(arr[:mid]) \n",
    "        right = mergesort(arr[mid:]) \n",
    "        return merge(left,right) \n",
    "    else:\n",
    "        return arr"
   ]
  },
  {
   "cell_type": "markdown",
   "id": "4e65f2e9-4d79-4116-92a3-230c9b172891",
   "metadata": {},
   "source": [
    "### Quick Sort"
   ]
  },
  {
   "cell_type": "code",
   "execution_count": 2,
   "id": "4491df41-cbc7-437a-b9f9-8f226e67310e",
   "metadata": {},
   "outputs": [],
   "source": [
    "import random\n",
    "def partition(arr, p, r):\n",
    "    pivot = arr[r]\n",
    "    i = p - 1\n",
    "\n",
    "    for j in range(p, r):\n",
    "        if arr[j] <= pivot:\n",
    "            i += 1\n",
    "            arr[i], arr[j] = arr[j], arr[i]\n",
    "    arr[i + 1], arr[r] = arr[r], arr[i + 1]\n",
    "    return i+1\n",
    "\n",
    "def randomized_partition(arr, p, r, seed=0):\n",
    "    random.seed(seed)\n",
    "    i = random.randint(p,r)\n",
    "    arr[r], arr[i] = arr[i], arr[r]\n",
    "    return partition(arr, p, r)\n",
    "\n",
    "def quicksort(A, p, r):\n",
    "    if p < r:\n",
    "        q = randomized_partition(A, p, r)\n",
    "        quicksort(A, p, q-1)\n",
    "        quicksort(A, q+1, r)"
   ]
  },
  {
   "cell_type": "markdown",
   "id": "2c094005-7df9-429c-827b-c7663d23ccaa",
   "metadata": {},
   "source": [
    "### Testing"
   ]
  },
  {
   "cell_type": "code",
   "execution_count": 5,
   "id": "396f128a-5bcf-4fb0-8477-29529b3f52d0",
   "metadata": {},
   "outputs": [
    {
     "name": "stdout",
     "output_type": "stream",
     "text": [
      "Merge sort passed\n"
     ]
    }
   ],
   "source": [
    "def test_mergesort(arr):\n",
    "    mergesort_arr = mergesort(arr)\n",
    "    arr.sort()\n",
    "    return mergesort_arr == arr\n",
    "\n",
    "if test_mergesort([2,6,1,9,1]):\n",
    "    print(\"Merge sort passed\")\n",
    "else:\n",
    "    print(\"Merge sort failed\")"
   ]
  },
  {
   "cell_type": "code",
   "execution_count": 6,
   "id": "1cfeb47b-52a7-4074-a248-322ab7758b2b",
   "metadata": {},
   "outputs": [
    {
     "name": "stdout",
     "output_type": "stream",
     "text": [
      "Quick sort passed\n"
     ]
    }
   ],
   "source": [
    "def test_quicksort(arr):\n",
    "    # Quick sort sorts in place\n",
    "    quicksort_arr = arr[:]\n",
    "    quicksort(quicksort_arr, 0, len(arr) - 1)\n",
    "    arr.sort()\n",
    "    return quicksort_arr == arr\n",
    "\n",
    "if test_quicksort([2,6,1,9,1]):\n",
    "    print(\"Quick sort passed\")\n",
    "else:\n",
    "    print(\"Quick sort failed\")"
   ]
  },
  {
   "cell_type": "markdown",
   "id": "271a5bd8-5ba3-4161-8578-b243ff828c2e",
   "metadata": {},
   "source": [
    "## Part 5"
   ]
  },
  {
   "cell_type": "code",
   "execution_count": 7,
   "id": "b4947bb9-5ea0-46de-9ff4-78e3135493b2",
   "metadata": {},
   "outputs": [],
   "source": [
    "from timeit import default_timer as timer\n",
    "arr = list(range(1000000))\n",
    "reverse = list(range(1000000, 0, -1))"
   ]
  },
  {
   "cell_type": "code",
   "execution_count": 8,
   "id": "e51e5bdb-1e2d-4c5c-8a8d-9a51a1632553",
   "metadata": {},
   "outputs": [
    {
     "name": "stdout",
     "output_type": "stream",
     "text": [
      "Quick-Sort in-order: 6884.996709000006 msecs\n"
     ]
    }
   ],
   "source": [
    "start = timer()\n",
    "quicksort(arr, 0, len(arr) - 1)\n",
    "end = timer()\n",
    "print(f\"Quick-Sort in-order: {(end - start) * 1000} msecs\")"
   ]
  },
  {
   "cell_type": "code",
   "execution_count": 9,
   "id": "e16a1138-4407-4835-a6a5-95349513028c",
   "metadata": {},
   "outputs": [
    {
     "name": "stdout",
     "output_type": "stream",
     "text": [
      "Quick-Sort reversed: 8415.95083300001 msecs\n"
     ]
    }
   ],
   "source": [
    "start = timer()\n",
    "quicksort(reverse, 0, len(reverse) - 1)\n",
    "end = timer()\n",
    "print(f\"Quick-Sort reversed: {(end - start) * 1000} msecs\")"
   ]
  },
  {
   "cell_type": "code",
   "execution_count": 10,
   "id": "21b0adbb-eea5-4702-bfba-670896defa83",
   "metadata": {},
   "outputs": [
    {
     "name": "stdout",
     "output_type": "stream",
     "text": [
      "Merge-Sort in-order: 3401.6656669999747 msecs\n"
     ]
    }
   ],
   "source": [
    "start = timer()\n",
    "mergesort(arr)\n",
    "end = timer()\n",
    "print(f\"Merge-Sort in-order: {(end - start) * 1000} msecs\")"
   ]
  },
  {
   "cell_type": "code",
   "execution_count": 11,
   "id": "fb5eb085-55e9-4357-8fdc-1d41f97f4774",
   "metadata": {},
   "outputs": [
    {
     "name": "stdout",
     "output_type": "stream",
     "text": [
      "Merge-Sort reversed: 3421.89370899996 msecs\n"
     ]
    }
   ],
   "source": [
    "start = timer()\n",
    "mergesort(reverse)\n",
    "end = timer()\n",
    "print(f\"Merge-Sort reversed: {(end - start) * 1000} msecs\")"
   ]
  },
  {
   "cell_type": "markdown",
   "id": "2725e7eb-ce7a-4239-8da2-f637cf47dda2",
   "metadata": {},
   "source": [
    "## Part 7"
   ]
  },
  {
   "cell_type": "code",
   "execution_count": 12,
   "id": "69e05ad4-d6a7-4ea1-a354-3bdfa177b6da",
   "metadata": {},
   "outputs": [
    {
     "name": "stdout",
     "output_type": "stream",
     "text": [
      "Built-In-Sort in-order: 5.293999999992138 msecs\n"
     ]
    }
   ],
   "source": [
    "start = timer()\n",
    "arr.sort()\n",
    "end = timer()\n",
    "print(f\"Built-In-Sort in-order: {(end - start) * 1000} msecs\")"
   ]
  },
  {
   "cell_type": "code",
   "execution_count": 13,
   "id": "0dee7501-cde7-4a29-b896-8826a248f5cd",
   "metadata": {},
   "outputs": [
    {
     "name": "stdout",
     "output_type": "stream",
     "text": [
      "Built-In-Sort reversed: 4.81400000001031 msecs\n"
     ]
    }
   ],
   "source": [
    "start = timer()\n",
    "reverse.sort()\n",
    "end = timer()\n",
    "print(f\"Built-In-Sort reversed: {(end - start) * 1000} msecs\")"
   ]
  }
 ],
 "metadata": {
  "kernelspec": {
   "display_name": "Python 3 (ipykernel)",
   "language": "python",
   "name": "python3"
  },
  "language_info": {
   "codemirror_mode": {
    "name": "ipython",
    "version": 3
   },
   "file_extension": ".py",
   "mimetype": "text/x-python",
   "name": "python",
   "nbconvert_exporter": "python",
   "pygments_lexer": "ipython3",
   "version": "3.9.12"
  },
  "vscode": {
   "interpreter": {
    "hash": "31f2aee4e71d21fbe5cf8b01ff0e069b9275f58929596ceb00d14d90e3e16cd6"
   }
  }
 },
 "nbformat": 4,
 "nbformat_minor": 5
}
